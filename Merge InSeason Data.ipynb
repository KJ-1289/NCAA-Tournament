{
 "cells": [
  {
   "cell_type": "code",
   "execution_count": 70,
   "metadata": {},
   "outputs": [],
   "source": [
    "import pandas as pd\n",
    "\n",
    "#Import datasets\n",
    "historical = pd.read_csv(\"kenpom_2003_2019.csv\")\n",
    "historical = historical[historical[\"Seed\"] > 0].reset_index() #Only tournament qualifiers\n",
    "\n",
    "summary = pd.read_csv(\"summary21.csv\")\n",
    "offense = pd.read_csv(\"offense21.csv\")\n",
    "defense = pd.read_csv(\"defense21.csv\")\n",
    "misc = pd.read_csv(\"misc21.csv\")\n",
    "\n",
    "#Create identifier\n",
    "summary[\"Team\"] = summary[\"Season\"].astype(str) + \" \" + summary[\"TeamName\"]\n",
    "offense[\"Team\"] = offense[\"Season\"].astype(str) + \" \" + offense[\"TeamName\"]\n",
    "defense[\"Team\"] = defense[\"Season\"].astype(str) + \" \" + defense[\"TeamName\"]\n",
    "misc[\"Team\"] = misc[\"Season\"].astype(str) + \" \" + misc[\"TeamName\"]\n",
    "\n",
    "#Edit columns\n",
    "summary[\"Finish\"] = \"8. 2021\"\n",
    "summary[\"TourneyWins\"] = 21\n",
    "summary[\"Result\"] = 21\n",
    "summary[\"Seed\"] = 21\n",
    "defense = defense.rename(columns = {\"eFGPct\": \"OppeFGPct\", \"TOPct\": \"OppTOPct\", \"ORPct\": \"OppORPct\", \"FTRate\": \"OppFTRate\"})\n",
    "\n",
    "#Subset relevant columns\n",
    "sum_sub = summary[[\"Team\", \"Finish\", \"TourneyWins\", \"Result\", \"Seed\", \"RankAdjEM\",\n",
    "                   \"Tempo\", \"AdjTempo\", \"OE\", \"AdjOE\", \"DE\", \"AdjDE\", \"AdjEM\"]]\n",
    "off_sub = offense[[\"Team\", \"eFGPct\", \"TOPct\", \"ORPct\", \"FTRate\"]]\n",
    "def_sub = defense[[\"Team\", \"OppeFGPct\", \"OppTOPct\", \"OppORPct\", \"OppFTRate\"]]\n",
    "misc_sub = misc[[\"Team\", \"FG2Pct\", \"FG3Pct\", \"FTPct\", \"BlockPct\", \n",
    "                \"OppFG2Pct\", \"OppFG3Pct\", \"OppFTPct\", \"OppBlockPct\",\n",
    "               \"FG3Rate\", \"OppFG3Rate\", \"ARate\", \"OppARate\", \"StlRate\", \"OppStlRate\"]]\n",
    "\n",
    "#Join columns\n",
    "current = pd.merge(sum_sub, off_sub, on=[\"Team\", \"Team\"])\n",
    "current = pd.merge(current, def_sub, on=[\"Team\", \"Team\"])\n",
    "current = pd.merge(current, misc_sub, on=[\"Team\", \"Team\"])\n",
    "current = current[current[\"RankAdjEM\"] <= 50].reset_index() #Top 50 teams\n",
    "current = current.drop([\"index\", \"RankAdjEM\"], axis=1)\n",
    "\n",
    "#Merge with historical data\n",
    "kenpom_all = pd.concat([historical, current])\n",
    "kenpom_all.to_csv(\"kenpom_all.csv\")"
   ]
  },
  {
   "cell_type": "code",
   "execution_count": null,
   "metadata": {},
   "outputs": [],
   "source": []
  }
 ],
 "metadata": {
  "kernelspec": {
   "display_name": "Python 3",
   "language": "python",
   "name": "python3"
  },
  "language_info": {
   "codemirror_mode": {
    "name": "ipython",
    "version": 3
   },
   "file_extension": ".py",
   "mimetype": "text/x-python",
   "name": "python",
   "nbconvert_exporter": "python",
   "pygments_lexer": "ipython3",
   "version": "3.8.3"
  }
 },
 "nbformat": 4,
 "nbformat_minor": 4
}
